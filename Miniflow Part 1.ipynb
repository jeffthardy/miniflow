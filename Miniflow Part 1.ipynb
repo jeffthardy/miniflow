{
 "cells": [
  {
   "cell_type": "markdown",
   "metadata": {
    "deletable": true,
    "editable": true
   },
   "source": [
    "# MiniFlow Deeper Dive\n",
    "\n",
    "This Notebook is to take a deeper look at the MiniFlow Neural Network framework created in the Udacity Deep Learning Nanodegree Foundations.  The [MiniFlow Class](miniflow.py) was created during the Udacity lessons and the copy included here is from the solution set.\n",
    "\n",
    "There are a few things I would like to explore:\n",
    "1. Visualizing the tutorial test case in a Jupyter Notebook\n",
    "2. Expanding the Network to a slightly more complicated configuration\n",
    "3. Running this code on my ARM/FPGA (Pynq) Development Board for performance comparisons"
   ]
  },
  {
   "cell_type": "markdown",
   "metadata": {
    "deletable": true,
    "editable": true
   },
   "source": [
    "## The Basic Configuration\n",
    "\n",
    "The following is a replication of the base example given in the course lesson, but broken out in a more detailed way for viewing in this Notebook."
   ]
  },
  {
   "cell_type": "code",
   "execution_count": 1,
   "metadata": {
    "collapsed": false,
    "deletable": true,
    "editable": true
   },
   "outputs": [],
   "source": [
    "# Bring in the required libraries\n",
    "\n",
    "# We use numpy for creating tensors (N-dimensional Arrays)\n",
    "import numpy as np\n",
    "\n",
    "# Our test dataset will come from the scikit-learn data set of Boston Housing\n",
    "from sklearn.datasets import load_boston\n",
    "\n",
    "# To perform Stochastic Gradient Decent use shuffle/resample on the base dataset\n",
    "from sklearn.utils import shuffle, resample\n",
    "\n",
    "# Miniflow is a custom set of classes derived from the Node base class\n",
    "from miniflow import *\n",
    "\n",
    "import matplotlib.pyplot as plt\n",
    "%matplotlib inline"
   ]
  },
  {
   "cell_type": "markdown",
   "metadata": {
    "collapsed": true,
    "deletable": true,
    "editable": true
   },
   "source": [
    "Next, we load in our data set with both features and targets based on those features.  We normalize the data because it is much easier to deal with values between 1 and 0 when picking hyperparameter values."
   ]
  },
  {
   "cell_type": "code",
   "execution_count": 2,
   "metadata": {
    "collapsed": true,
    "deletable": true,
    "editable": true
   },
   "outputs": [],
   "source": [
    "# Load data\n",
    "data = load_boston()\n",
    "X_ = data['data']\n",
    "y_ = data['target']\n",
    "\n",
    "# Normalize data\n",
    "X_ = (X_ - np.mean(X_, axis=0)) / np.std(X_, axis=0)\n",
    "\n",
    "# Create holder for weights and bias values\n",
    "n_features = X_.shape[1]\n",
    "n_hidden = 10\n",
    "W1_ = np.random.randn(n_features, n_hidden)\n",
    "b1_ = np.zeros(n_hidden)\n",
    "W2_ = np.random.randn(n_hidden, 1)\n",
    "b2_ = np.zeros(1)\n"
   ]
  },
  {
   "cell_type": "markdown",
   "metadata": {
    "deletable": true,
    "editable": true
   },
   "source": [
    "Now we configure the Neural Network using the MiniFlow classes to create a simple network as shown in the following image:\n",
    "\n",
    "<img src=two-layer-graph.png>\n",
    " [Image: Udacity]\n",
    "\n",
    "Every node in this image is a class with a member function called forward and backwards which supports forward and backward propagation."
   ]
  },
  {
   "cell_type": "code",
   "execution_count": 3,
   "metadata": {
    "collapsed": true,
    "deletable": true,
    "editable": true
   },
   "outputs": [],
   "source": [
    "# Neural network configuration\n",
    "X, y = Input(), Input()\n",
    "W1, b1 = Input(), Input()\n",
    "W2, b2 = Input(), Input()\n",
    "\n",
    "l1 = Linear(X, W1, b1)\n",
    "s1 = Sigmoid(l1)\n",
    "l2 = Linear(s1, W2, b2)\n",
    "cost = MSE(y, l2)"
   ]
  },
  {
   "cell_type": "markdown",
   "metadata": {
    "deletable": true,
    "editable": true
   },
   "source": [
    "To avoid calculation dependency problems we will sort the network into the a safe order of operations using the [Kahn Algorithm](https://en.wikipedia.org/wiki/Topological_sorting#Kahn.27s_algorithm).  An example of what this does is in the following image where some parallel operations are reordered to ensure all dependent data is calculated first.\n",
    "\n",
    "<img src=topological-sort.jpeg> [Image: Udacity]\n",
    "\n",
    "While this is useful for a serial processing system I'm curious how to handle this in a device like an FPGA which is capable of doing truly parallel processing.\n",
    "\n"
   ]
  },
  {
   "cell_type": "code",
   "execution_count": 4,
   "metadata": {
    "collapsed": true,
    "deletable": true,
    "editable": true
   },
   "outputs": [],
   "source": [
    "# Sort processing and initialize with starting values\n",
    "feed_dict = {\n",
    "    X: X_,\n",
    "    y: y_,\n",
    "    W1: W1_,\n",
    "    b1: b1_,\n",
    "    W2: W2_,\n",
    "    b2: b2_\n",
    "}\n",
    "graph = topological_sort(feed_dict)"
   ]
  },
  {
   "cell_type": "markdown",
   "metadata": {
    "deletable": true,
    "editable": true
   },
   "source": [
    "Now we have a configured network and can begin the processing interations using a forward pass to get an initial classification, then backwards propagation of the cost/loss of the prediction and also calculating a gradient to determine which direction we need to nudge the system to get a lower cost in the next prediction.  This process is repeated, using a new set of data each time by taking a random subset of the test data, until we reach the configured number of **epochs**."
   ]
  },
  {
   "cell_type": "code",
   "execution_count": 5,
   "metadata": {
    "collapsed": false,
    "deletable": true,
    "editable": true
   },
   "outputs": [
    {
     "name": "stdout",
     "output_type": "stream",
     "text": [
      "Total number of examples = 506\n"
     ]
    }
   ],
   "source": [
    "epochs = 100\n",
    "\n",
    "# Total number of examples\n",
    "m = X_.shape[0]\n",
    "batch_size = 11\n",
    "steps_per_epoch = m // batch_size\n",
    "trainables = [W1, b1, W2, b2]\n",
    "learning_rate = .01\n",
    "\n",
    "print(\"Total number of examples = {}\".format(m))"
   ]
  },
  {
   "cell_type": "code",
   "execution_count": 11,
   "metadata": {
    "collapsed": false,
    "deletable": true,
    "editable": true
   },
   "outputs": [
    {
     "data": {
      "text/plain": [
       "[<matplotlib.lines.Line2D at 0x231957cb668>]"
      ]
     },
     "execution_count": 11,
     "metadata": {},
     "output_type": "execute_result"
    },
    {
     "data": {
      "image/png": "[encoded data removed]",
      "text/plain": [
       "<matplotlib.figure.Figure at 0x23195741160>"
      ]
     },
     "metadata": {},
     "output_type": "display_data"
    }
   ],
   "source": [
    "results = []\n",
    "for i in range(epochs):\n",
    "    loss = 0\n",
    "    for j in range(steps_per_epoch):\n",
    "        # Step 1\n",
    "        # Randomly sample a batch of examples\n",
    "        X_batch, y_batch = resample(X_, y_, n_samples=batch_size)\n",
    "\n",
    "        # Reset value of X and y Inputs\n",
    "        X.value = X_batch\n",
    "        y.value = y_batch\n",
    "\n",
    "        # Step 2\n",
    "        forward_and_backward(graph)\n",
    "\n",
    "        # Step 3\n",
    "        sgd_update(trainables,learning_rate)\n",
    "\n",
    "        loss += graph[-1].value\n",
    "\n",
    "    #print(\"Epoch: {}, Loss: {:.3f}\".format(i+1, loss/steps_per_epoch))\n",
    "    results.append(loss/steps_per_epoch)\n",
    "plt.plot(results)"
   ]
  },
  {
   "cell_type": "markdown",
   "metadata": {
    "collapsed": true,
    "deletable": true,
    "editable": true
   },
   "source": [
    "The previous graph shows the loss for each run of the epoch count.  It is clear that the loss initially was high but decreased quickly and converged on a loss value.  This is from the gradient decent finding a minimum in the loss function and working to find the optimal value but bouncing back and forth in a trough.\n",
    "\n",
    "If we were to change the learning rate to something smaller it should converge to a much tighter final result, but it will take it longer to get there.  Now we will try running with a learning rate 10% of the previous value."
   ]
  },
  {
   "cell_type": "code",
   "execution_count": 12,
   "metadata": {
    "collapsed": false
   },
   "outputs": [
    {
     "name": "stdout",
     "output_type": "stream",
     "text": [
      "Total number of examples = 506\n"
     ]
    },
    {
     "data": {
      "text/plain": [
       "[<matplotlib.lines.Line2D at 0x23195860860>]"
      ]
     },
     "execution_count": 12,
     "metadata": {},
     "output_type": "execute_result"
    },
    {
     "data": {
      "image/png": "[encoded data removed]",
      "text/plain": [
       "<matplotlib.figure.Figure at 0x23195747400>"
      ]
     },
     "metadata": {},
     "output_type": "display_data"
    }
   ],
   "source": [
    "# Neural network configuration\n",
    "X, y = Input(), Input()\n",
    "W1, b1 = Input(), Input()\n",
    "W2, b2 = Input(), Input()\n",
    "\n",
    "l1 = Linear(X, W1, b1)\n",
    "s1 = Sigmoid(l1)\n",
    "l2 = Linear(s1, W2, b2)\n",
    "cost = MSE(y, l2)\n",
    "\n",
    "# Sort processing and initialize with starting values\n",
    "feed_dict = {\n",
    "    X: X_,\n",
    "    y: y_,\n",
    "    W1: W1_,\n",
    "    b1: b1_,\n",
    "    W2: W2_,\n",
    "    b2: b2_\n",
    "}\n",
    "graph = topological_sort(feed_dict)\n",
    "\n",
    "epochs = 100\n",
    "\n",
    "# Total number of examples\n",
    "m = X_.shape[0]\n",
    "batch_size = 11\n",
    "steps_per_epoch = m // batch_size\n",
    "trainables = [W1, b1, W2, b2]\n",
    "learning_rate = .001  # 10% Previous learning rate\n",
    "\n",
    "print(\"Total number of examples = {}\".format(m))\n",
    "\n",
    "results = []\n",
    "for i in range(epochs):\n",
    "    loss = 0\n",
    "    for j in range(steps_per_epoch):\n",
    "        # Step 1\n",
    "        # Randomly sample a batch of examples\n",
    "        X_batch, y_batch = resample(X_, y_, n_samples=batch_size)\n",
    "\n",
    "        # Reset value of X and y Inputs\n",
    "        X.value = X_batch\n",
    "        y.value = y_batch\n",
    "\n",
    "        # Step 2\n",
    "        forward_and_backward(graph)\n",
    "\n",
    "        # Step 3\n",
    "        sgd_update(trainables,learning_rate)\n",
    "\n",
    "        loss += graph[-1].value\n",
    "\n",
    "    #print(\"Epoch: {}, Loss: {:.3f}\".format(i+1, loss/steps_per_epoch))\n",
    "    results.append(loss/steps_per_epoch)\n",
    "plt.plot(results)"
   ]
  },
  {
   "cell_type": "code",
   "execution_count": null,
   "metadata": {
    "collapsed": true
   },
   "outputs": [],
   "source": []
  }
 ],
 "metadata": {
  "kernelspec": {
   "display_name": "Python 3",
   "language": "python",
   "name": "python3"
  },
  "language_info": {
   "codemirror_mode": {
    "name": "ipython",
    "version": 3
   },
   "file_extension": ".py",
   "mimetype": "text/x-python",
   "name": "python",
   "nbconvert_exporter": "python",
   "pygments_lexer": "ipython3",
   "version": "3.6.1"
  }
 },
 "nbformat": 4,
 "nbformat_minor": 2
}
